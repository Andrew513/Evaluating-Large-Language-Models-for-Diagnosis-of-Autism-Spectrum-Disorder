{
 "cells": [
  {
   "cell_type": "code",
   "execution_count": null,
   "id": "a348e72c",
   "metadata": {},
   "outputs": [],
   "source": [
    "import openai\n",
    "import requests\n",
    "import pandas as pd\n",
    "import numpy as np\n",
    "import matplotlib.pyplot as plt\n",
    "%matplotlib inline\n",
    "import seaborn as sns\n",
    "from matplotlib.ticker import PercentFormatter\n",
    "from sklearn.metrics import f1_score\n",
    "from sklearn.metrics import confusion_matrix\n",
    "from sklearn.metrics import accuracy_score\n",
    "from sklearn.metrics import precision_recall_curve, average_precision_score\n",
    "import warnings\n",
    "warnings.filterwarnings('ignore')"
   ]
  },
  {
   "cell_type": "code",
   "execution_count": null,
   "id": "7a226078",
   "metadata": {},
   "outputs": [],
   "source": [
    "df = pd.read_excel(\"path_to_child(x)'s_excel_file\")"
   ]
  },
  {
   "cell_type": "markdown",
   "id": "436ae96b",
   "metadata": {},
   "source": [
    "# Pareto Chart for child x "
   ]
  },
  {
   "cell_type": "code",
   "execution_count": null,
   "id": "87e2e614",
   "metadata": {},
   "outputs": [],
   "source": [
    "file_name = \"path_to_child(x)'s_excel_file\"\n",
    "df_temp = pd.read_excel(file_name)\n",
    "data = df_temp['1']\n",
    "\n",
    "bins = [0, 0.2, 0.4, 0.6, 0.8, 1.0]\n",
    "group_names = ['0-0.2', '0.2-0.4', '0.4-0.6', '0.6-0.8', '0.8-1.0']\n",
    "data_grouped = pd.cut(data, bins=bins, labels=group_names, include_lowest=True)\n",
    "\n",
    "grouped_counts = data_grouped.value_counts()\n",
    "\n",
    "cumulative_percentage = (grouped_counts.cumsum() / grouped_counts.sum()) * 100\n",
    "\n",
    "fig, ax1 = plt.subplots(figsize=(10, 6))\n",
    "ax2 = ax1.twinx()\n",
    "\n",
    "ax1.bar(grouped_counts.index, grouped_counts, color='tab:blue', alpha=0.6)\n",
    "\n",
    "ax2.plot(grouped_counts.index, cumulative_percentage, color='tab:red', marker='o', ms=5)\n",
    "\n",
    "ax1.set_title(\"Pareto Plot of expert prompting for Child 8\", fontsize=20)\n",
    "ax1.set_xlabel(\"Probability\", fontsize=20)\n",
    "ax1.set_ylabel(\"Count\", color='tab:blue', fontsize=20)\n",
    "ax2.set_ylabel(\"Cumulative Percentage (%)\", color='tab:red', fontsize=20)\n",
    "\n",
    "# Increase the font size for x-axis tick labels\n",
    "plt.xticks(ha='right')\n",
    "\n",
    "ax1.tick_params(axis='x', labelsize=18)\n",
    "ax2.tick_params(axis='x', labelsize=18)\n",
    "\n",
    "# Increase the font size for y-axis tick labels\n",
    "ax1.tick_params(axis='y', labelsize=18)\n",
    "ax2.tick_params(axis='y', labelsize=18)\n",
    "\n",
    "plt.tight_layout()\n",
    "plt.show()"
   ]
  },
  {
   "cell_type": "markdown",
   "id": "1b9a78b5",
   "metadata": {},
   "source": [
    "# Box plot for child x"
   ]
  },
  {
   "cell_type": "code",
   "execution_count": null,
   "id": "d798b785",
   "metadata": {},
   "outputs": [],
   "source": [
    "from matplotlib.ticker import MultipleLocator\n",
    "import numpy as np\n",
    "\n",
    "autism_dict = {}\n",
    "for i in range(50):\n",
    "    file_name = \"path_to_child(x)'s_excel_file\"\n",
    "    df_temp = pd.read_excel(file_name)\n",
    "    data = df_temp['1']\n",
    "    autism_dict[str(i + 1)] = data\n",
    "\n",
    "df_all = pd.DataFrame(autism_dict)\n",
    "plt.figure(figsize=(20, 10))\n",
    "\n",
    "plt.xlabel('Children', fontsize=28)\n",
    "plt.ylabel('Probability', fontsize=28)\n",
    "\n",
    "plt.title('Autism Boxplot for 50 Children(zero-shot)', fontsize=30)\n",
    "\n",
    "plt.xticks(fontsize=25)\n",
    "plt.yticks(fontsize=25)\n",
    "\n",
    "plt.tick_params(axis='y', labelsize=20)\n",
    "\n",
    "sns.boxplot(data=df_all, showfliers=False)\n",
    "\n",
    "x_major_locator = MultipleLocator(2)\n",
    "ax = plt.gca()\n",
    "ax.xaxis.set_major_locator(x_major_locator)\n",
    "\n",
    "df = pd.read_excel(\"path_to_ground_truth_excel\")\n",
    "first_50_data = df['自閉症'].head(50)\n",
    "\n",
    "x_values = np.arange(0, 50)\n",
    "\n",
    "plt.scatter(x_values, first_50_data, color='blue', alpha=0.7, marker='o')\n",
    "\n",
    "plt.show()"
   ]
  },
  {
   "cell_type": "markdown",
   "id": "739a2852",
   "metadata": {},
   "source": [
    "# Accuracy "
   ]
  },
  {
   "cell_type": "code",
   "execution_count": null,
   "id": "81f2fe04",
   "metadata": {},
   "outputs": [],
   "source": [
    "for i in [\"zero\", \"few\", \"chain\", \"expert\", \"expert_gpt4\"]:\n",
    "    df_final_zero = pd.read_excel(\"final_data.xlsx\", sheet_name = i)\n",
    "    df_processed = df_final_zero.applymap(lambda x: 0 if x < 0.5 else 1)\n",
    "    \n",
    "    accuracies = {}\n",
    "    overkill_rates = {}\n",
    "    print(f'{i}:')\n",
    "\n",
    "    for column in df_processed.columns:\n",
    "        accuracies[column] = accuracy_score(ground_truth[class_mapping[column]], df_processed[column])\n",
    "\n",
    "    # 格式化輸出\n",
    "    for column in accuracies.keys():\n",
    "        print(f\"{column[:-2]}: Accuracy = {accuracies[column]:.4f}\")\n",
    "    print(\"\\n\")"
   ]
  },
  {
   "cell_type": "markdown",
   "id": "b79927ea",
   "metadata": {},
   "source": [
    "# Accuracy for different approach"
   ]
  },
  {
   "cell_type": "code",
   "execution_count": null,
   "id": "7099900c",
   "metadata": {},
   "outputs": [],
   "source": [
    "ground_truth_df = pd.read_excel(\"data.xlsx\")\n",
    "\n",
    "file_names = [\n",
    "    \"exp4/output_zero_prescribeonly.xlsx\",\n",
    "    \"exp4/output_few_prescribeonly.xlsx\",\n",
    "    \"exp4/output_chain_prescribeonly.xlsx\",\n",
    "    \"exp4/output_expert_prescribeonly.xlsx\",\n",
    "    \"exp4/output_zero_bgonly.xlsx\",\n",
    "    \"exp4/output_few_bgonly.xlsx\",\n",
    "    \"exp4/output_chain_bgonly.xlsx\",\n",
    "    \"exp4/output_expert_bgonly.xlsx\"\n",
    "]\n",
    "\n",
    "accuracies = []\n",
    "\n",
    "for file_name in file_names:\n",
    "    prob_df = pd.read_excel(file_name)\n",
    "\n",
    "    binary_predictions = (prob_df['1'] >= 0.5).astype(int)\n",
    "\n",
    "    accuracy = accuracy_score(binary_predictions, ground_truth_df['自閉症'])\n",
    "\n",
    "    accuracies.append(accuracy)\n",
    "\n",
    "accuracies_reordered = [\n",
    "    accuracies[0], accuracies[4],\n",
    "    accuracies[1], accuracies[5],\n",
    "    accuracies[2], accuracies[6],\n",
    "    accuracies[3], accuracies[7]\n",
    "]\n",
    "\n",
    "output_df = pd.DataFrame({'Accuracy': accuracies_reordered})\n",
    "output_df.index = ['Zero_prescribeonly', 'Zero_bgonly', 'Few_prescribeonly', 'Few_bgonly', 'Chain_prescribeonly', 'Chain_bgonly', 'Expert_prescribeonly', 'Expert_bgonly']\n",
    "\n",
    "print(output_df)"
   ]
  }
 ],
 "metadata": {
  "kernelspec": {
   "display_name": "Python 3 (ipykernel)",
   "language": "python",
   "name": "python3"
  },
  "language_info": {
   "codemirror_mode": {
    "name": "ipython",
    "version": 3
   },
   "file_extension": ".py",
   "mimetype": "text/x-python",
   "name": "python",
   "nbconvert_exporter": "python",
   "pygments_lexer": "ipython3",
   "version": "3.10.9"
  }
 },
 "nbformat": 4,
 "nbformat_minor": 5
}
